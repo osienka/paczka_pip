{
  "cells": [
    {
      "cell_type": "markdown",
      "metadata": {
        "id": "view-in-github",
        "colab_type": "text"
      },
      "source": [
        "<a href=\"https://colab.research.google.com/github/osienka/paczka_pip/blob/main/Kopia_notatnika_classes.ipynb\" target=\"_parent\"><img src=\"https://colab.research.google.com/assets/colab-badge.svg\" alt=\"Open In Colab\"/></a>"
      ]
    },
    {
      "cell_type": "code",
      "execution_count": null,
      "metadata": {
        "id": "KwqV_NxNy7WE"
      },
      "outputs": [],
      "source": [
        "import numpy as np"
      ]
    },
    {
      "cell_type": "markdown",
      "metadata": {
        "id": "hfrLNOP6y7WH"
      },
      "source": [
        "## Exercise 1 \n",
        "\n",
        "Fix the code, so that all ``assert`` pass."
      ]
    },
    {
      "cell_type": "code",
      "execution_count": null,
      "metadata": {
        "id": "05_FXeINy7WI"
      },
      "outputs": [],
      "source": [
        "arr1 = np.full(10, 100, dtype=np.uint8)\n",
        "arr2 = np.full(10, 156, dtype=np.uint8)\n",
        "assert len(arr1) == 10\n",
        "assert len(arr2) == 10\n",
        "assert np.all(arr1 == 100)\n",
        "assert np.all(arr2 == 156)\n",
        "assert np.all(arr1 + arr2 == 0)"
      ]
    },
    {
      "cell_type": "markdown",
      "metadata": {
        "id": "IUx1wrPAy7WJ"
      },
      "source": [
        "## Exercise 2\n",
        "\n",
        "Load data from ``data/sample.csv``; calculate mean, median and std for each column separately.\n",
        "Solve this using numpy and without numpy (or pandas etc.)\n",
        "\n",
        "Measure the time of it execution (using ``%time`` magic or ``time()`` function from ``time`` module) for each case."
      ]
    },
    {
      "cell_type": "code",
      "execution_count": null,
      "metadata": {
        "id": "uk3oySfNy7WJ"
      },
      "outputs": [],
      "source": [
        "import csv"
      ]
    },
    {
      "cell_type": "code",
      "execution_count": null,
      "metadata": {
        "colab": {
          "base_uri": "https://localhost:8080/"
        },
        "id": "1aQAvogay7WK",
        "outputId": "4ad26b3e-2e50-4331-8dbc-a191f7123bda"
      },
      "outputs": [
        {
          "output_type": "stream",
          "name": "stdout",
          "text": [
            "CPU times: user 3 µs, sys: 1 µs, total: 4 µs\n",
            "Wall time: 7.39 µs\n"
          ]
        }
      ],
      "source": [
        "%time\n",
        "data = np.loadtxt(\"sample.csv\")\n",
        "mean = data.mean(axis=0)\n",
        "median = np.median(data, axis=0)\n",
        "std = data.std(axis = 0)"
      ]
    },
    {
      "cell_type": "markdown",
      "metadata": {
        "id": "MvKMcGVdy7WK"
      },
      "source": [
        "## Exercise 3\n",
        "\n",
        "Load data from ``data/ex3_data.npy`` and filter out rows with ``nan`` values.\n",
        "Report how many rows are dropped during filtration, globally and per column."
      ]
    },
    {
      "cell_type": "code",
      "execution_count": null,
      "metadata": {
        "colab": {
          "base_uri": "https://localhost:8080/"
        },
        "id": "UpFD3g5Dy7WL",
        "outputId": "d460b9ff-5ba0-4ba2-d83e-5e80769a84a8"
      },
      "outputs": [
        {
          "output_type": "stream",
          "name": "stdout",
          "text": [
            "Number of dropped rows:  10\n",
            "Number of na values per column:  3 3 4 1\n",
            "Number of na values globally: 11\n"
          ]
        }
      ],
      "source": [
        "data = np.load(\"ex3_data.npy\")\n",
        "print(\"Number of dropped rows: \", len(data[np.isnan(data).any(axis=1)]))\n",
        "print(\"Number of na values per column: \", np.count_nonzero(np.isnan(data[:,0])), np.count_nonzero(np.isnan(data[:,1])), np.count_nonzero(np.isnan(data[:,2])), np.count_nonzero(np.isnan(data[:,3])))\n",
        "data_filtered = data[~np.isnan(data).any(axis=1)]"
      ]
    },
    {
      "cell_type": "markdown",
      "metadata": {
        "id": "ZsdWoCB_y7WL"
      },
      "source": [
        "## Exercise 4\n",
        "\n",
        "Load data from ``data/iris.csv`` using ``loadtxt`` from ``numpy``. \n",
        "Skip header and name columns.\n",
        "For each column calculate: `mean`, `median` and `std` using `axis` parameter."
      ]
    },
    {
      "cell_type": "code",
      "execution_count": null,
      "metadata": {
        "colab": {
          "base_uri": "https://localhost:8080/"
        },
        "id": "eQdC77RZy7WL",
        "outputId": "fbf9dac4-35d6-4a6b-d3f0-0c94e3719720"
      },
      "outputs": [
        {
          "output_type": "execute_result",
          "data": {
            "text/plain": [
              "array([0.82530129, 0.43441097, 1.75940407, 0.75969263])"
            ]
          },
          "metadata": {},
          "execution_count": 50
        }
      ],
      "source": [
        "data = np.loadtxt(\"iris.csv\",skiprows=1, usecols= (0,1,2,3), delimiter= ',')\n",
        "print(np.mean(data, axis=0))\n",
        "print(np.median(data, axis=0))\n",
        "print(np.std(data, axis=0))"
      ]
    },
    {
      "cell_type": "markdown",
      "metadata": {
        "id": "FRUAbA6vy7WM"
      },
      "source": [
        "## Exercise 5\n",
        "\n",
        "Load data from ``data/sample_treated.npz``. \n",
        "Assume that each row of the ``outputs`` array contains information about the size of some structure traced in time.\n",
        "We would like to know which object grows doubles its size during observation.\n"
      ]
    },
    {
      "cell_type": "code",
      "execution_count": null,
      "metadata": {
        "colab": {
          "base_uri": "https://localhost:8080/"
        },
        "id": "yl2zSF_yy7WM",
        "outputId": "9e980a74-fa25-4f45-e050-8118fa00d6dd"
      },
      "outputs": [
        {
          "output_type": "execute_result",
          "data": {
            "text/plain": [
              "<numpy.lib.npyio.NpzFile at 0x7f509bd26190>"
            ]
          },
          "metadata": {},
          "execution_count": 62
        }
      ],
      "source": [
        "data = np.load(\"sample_treated.npz\")\n"
      ]
    }
  ],
  "metadata": {
    "kernelspec": {
      "display_name": "Python 3",
      "language": "python",
      "name": "python3"
    },
    "language_info": {
      "codemirror_mode": {
        "name": "ipython",
        "version": 3
      },
      "file_extension": ".py",
      "mimetype": "text/x-python",
      "name": "python",
      "nbconvert_exporter": "python",
      "pygments_lexer": "ipython3",
      "version": "3.8.3"
    },
    "colab": {
      "name": "Kopia notatnika classes.ipynb",
      "provenance": [],
      "collapsed_sections": [],
      "include_colab_link": true
    }
  },
  "nbformat": 4,
  "nbformat_minor": 0
}